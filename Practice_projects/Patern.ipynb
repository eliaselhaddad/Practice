{
 "cells": [
  {
   "cell_type": "code",
   "execution_count": 4,
   "metadata": {},
   "outputs": [
    {
     "name": "stdout",
     "output_type": "stream",
     "text": [
      "x \n",
      "x x \n",
      "x x x \n",
      "x x x x \n",
      "x x x x x \n"
     ]
    }
   ],
   "source": [
    "def pattern1(n):\n",
    "    for x in range(1, n+1):\n",
    "        print(\"x \" * x)\n",
    "\n",
    "pattern1(5)"
   ]
  },
  {
   "cell_type": "code",
   "execution_count": 6,
   "metadata": {},
   "outputs": [
    {
     "name": "stdout",
     "output_type": "stream",
     "text": [
      "x x x x x \n",
      "x x x x \n",
      "x x x \n",
      "x x \n",
      "x \n"
     ]
    }
   ],
   "source": [
    "def pattern2(n):\n",
    "    for x in reversed(range(1, n+1)):\n",
    "        print(\"x \" * x)\n",
    "\n",
    "pattern2(5)"
   ]
  },
  {
   "cell_type": "code",
   "execution_count": 15,
   "metadata": {},
   "outputs": [
    {
     "name": "stdout",
     "output_type": "stream",
     "text": [
      "x x x x x \n",
      "x x x x \n",
      "x x x \n",
      "x x \n",
      "x \n"
     ]
    }
   ],
   "source": [
    "def pattern3(n):\n",
    "    for x in range(n, 0, -1):\n",
    "        print(\"x \" * x)\n",
    "\n",
    "pattern3(5)"
   ]
  },
  {
   "cell_type": "code",
   "execution_count": 16,
   "metadata": {},
   "outputs": [
    {
     "name": "stdout",
     "output_type": "stream",
     "text": [
      "x o o o o \n",
      "x x o o o \n",
      "x x x o o \n",
      "x x x x o \n",
      "x x x x x \n"
     ]
    }
   ],
   "source": [
    "def pattern4(n):\n",
    "  for i in range(n):\n",
    "    print(\"x \" * (i + 1) + \"o \" * (n - i - 1))\n",
    "\n",
    "pattern4(5)"
   ]
  },
  {
   "cell_type": "code",
   "execution_count": 29,
   "metadata": {},
   "outputs": [
    {
     "name": "stdout",
     "output_type": "stream",
     "text": [
      "x x x x x \n",
      "x x x x o \n",
      "x x x o o \n",
      "x x o o o \n",
      "x o o o o \n"
     ]
    }
   ],
   "source": [
    "def pattern5(n):\n",
    "    for i in range(n):\n",
    "        print(\"x \" * (n-i) + \"o \" * i)\n",
    "\n",
    "pattern5(5)"
   ]
  },
  {
   "cell_type": "code",
   "execution_count": 31,
   "metadata": {},
   "outputs": [
    {
     "name": "stdout",
     "output_type": "stream",
     "text": [
      "x x x x x \n",
      "o x x x x \n",
      "o o x x x \n",
      "o o o x x \n",
      "o o o o x \n"
     ]
    }
   ],
   "source": [
    "def pattern6(n):\n",
    "  for i in range(n):\n",
    "    print(\"o \" * i + \"x \" * (n - i))\n",
    "pattern6(5)"
   ]
  }
 ],
 "metadata": {
  "kernelspec": {
   "display_name": "Python 3",
   "language": "python",
   "name": "python3"
  },
  "language_info": {
   "codemirror_mode": {
    "name": "ipython",
    "version": 3
   },
   "file_extension": ".py",
   "mimetype": "text/x-python",
   "name": "python",
   "nbconvert_exporter": "python",
   "pygments_lexer": "ipython3",
   "version": "3.9.13"
  },
  "orig_nbformat": 4,
  "vscode": {
   "interpreter": {
    "hash": "b69d018eeda785eaf4bc07a2891481be73b2136ce99b860067652d3b8a9a52f8"
   }
  }
 },
 "nbformat": 4,
 "nbformat_minor": 2
}
