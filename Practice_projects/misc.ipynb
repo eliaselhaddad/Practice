{
 "cells": [
  {
   "cell_type": "code",
   "execution_count": 1,
   "metadata": {},
   "outputs": [
    {
     "name": "stdout",
     "output_type": "stream",
     "text": [
      "i\n"
     ]
    }
   ],
   "source": [
    "# beskriv vad koden gör och vad som skrivs ut\n",
    "frukter = [\"jordgubbe\", \"vindruva\", \"grape\"] # skapar en lista med tre element\n",
    "godfrukt = frukter[1] # skapar en variabel som innehåller den andra elementet i listan\n",
    "print(godfrukt[1]) # skriver ut det andra elementet i variabeln godfrukt (dvs. \"i\")"
   ]
  },
  {
   "cell_type": "code",
   "execution_count": 2,
   "metadata": {},
   "outputs": [
    {
     "name": "stdout",
     "output_type": "stream",
     "text": [
      "x x x x x \n",
      "x x x x \n",
      "x x x \n",
      "x x \n",
      "x \n"
     ]
    }
   ],
   "source": [
    "# skapa en funktion som tar in en heltal n som parameter och skriver ut följande mönstret nedan\n",
    "# exempel: n = 5\n",
    "# x x x x x\n",
    "# x x x x \n",
    "# x x x\n",
    "# x x\n",
    "# x\n",
    "\n",
    "def print_x(n):\n",
    "    for i in range(n):\n",
    "        print(\"x \" * (n-i)) \n",
    "print_x(5)       "
   ]
  },
  {
   "cell_type": "code",
   "execution_count": 6,
   "metadata": {},
   "outputs": [
    {
     "name": "stdout",
     "output_type": "stream",
     "text": [
      "x x x x x \n",
      "x x x x \n",
      "x x x \n",
      "x x \n",
      "x \n"
     ]
    }
   ],
   "source": []
  }
 ],
 "metadata": {
  "kernelspec": {
   "display_name": "Python 3.9.13 64-bit",
   "language": "python",
   "name": "python3"
  },
  "language_info": {
   "codemirror_mode": {
    "name": "ipython",
    "version": 3
   },
   "file_extension": ".py",
   "mimetype": "text/x-python",
   "name": "python",
   "nbconvert_exporter": "python",
   "pygments_lexer": "ipython3",
   "version": "3.9.13"
  },
  "orig_nbformat": 4,
  "vscode": {
   "interpreter": {
    "hash": "b69d018eeda785eaf4bc07a2891481be73b2136ce99b860067652d3b8a9a52f8"
   }
  }
 },
 "nbformat": 4,
 "nbformat_minor": 2
}
