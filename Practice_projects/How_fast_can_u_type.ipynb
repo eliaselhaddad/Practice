{
 "cells": [
  {
   "cell_type": "code",
   "execution_count": null,
   "metadata": {},
   "outputs": [],
   "source": [
    "import curses \n",
    "from curses import wrapper\n",
    "\n",
    "def main(stdscr): # stdscr is the screen object \n",
    "    # Clear screen\n",
    "    stdscr.clear()\n",
    "    stdscr.addstr(\"Hello World\") # print to screen\n",
    "    stdscr.refresh() # refresh the screen\n",
    "    stdscr.getkey() # wait for user input\n",
    "\n",
    "wrapper(main) # wrapper() is a wrapper function that calls main() and handles the screen setup and teardown"
   ]
  }
 ],
 "metadata": {
  "kernelspec": {
   "display_name": "Python 3.9.13 64-bit",
   "language": "python",
   "name": "python3"
  },
  "language_info": {
   "name": "python",
   "version": "3.9.13"
  },
  "orig_nbformat": 4,
  "vscode": {
   "interpreter": {
    "hash": "b69d018eeda785eaf4bc07a2891481be73b2136ce99b860067652d3b8a9a52f8"
   }
  }
 },
 "nbformat": 4,
 "nbformat_minor": 2
}
